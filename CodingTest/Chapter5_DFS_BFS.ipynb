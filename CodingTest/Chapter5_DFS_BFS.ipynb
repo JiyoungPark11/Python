{
 "cells": [
  {
   "cell_type": "markdown",
   "metadata": {},
   "source": [
    "<h1>Chapter 5. </h1>\n",
    "<h2> 그래프를 탐색하기 위한 대표적인 두 가지 알고리즘</h2>"
   ]
  },
  {
   "cell_type": "markdown",
   "metadata": {},
   "source": [
    "<h2>5-1. 스택</h2>"
   ]
  },
  {
   "cell_type": "code",
   "execution_count": null,
   "metadata": {},
   "outputs": [],
   "source": [
    "stack = []\n",
    "\n",
    "stack.append(5)\n",
    "stack.append(3)\n",
    "stack.append(1)\n",
    "stack.pop()\n",
    "stack.append(2)\n",
    "stack.pop()\n",
    "\n",
    "print(stack)\n",
    "print(stack[::-1])"
   ]
  },
  {
   "cell_type": "markdown",
   "metadata": {},
   "source": [
    "<h2>5-2. 큐</h2>"
   ]
  },
  {
   "cell_type": "code",
   "execution_count": null,
   "metadata": {},
   "outputs": [],
   "source": [
    "from collections import deque\n",
    "\n",
    "queue = deque()\n",
    "\n",
    "queue.append(5)\n",
    "queue.append(3)\n",
    "queue.append(1)\n",
    "queue.popleft()\n",
    "queue.append(2)\n",
    "queue.popleft()\n",
    "\n",
    "print(queue)\n",
    "queue.reverse()\n",
    "print(queue)"
   ]
  },
  {
   "cell_type": "markdown",
   "metadata": {},
   "source": [
    "<h2>5-5. 팩토리얼 예제 (재귀사용)</h2>"
   ]
  },
  {
   "cell_type": "code",
   "execution_count": null,
   "metadata": {},
   "outputs": [],
   "source": [
    "def factorial_iterative(n):\n",
    "    result = 1\n",
    "    for i in range(1, n+1):\n",
    "        result *= i\n",
    "    return result\n",
    "\n",
    "def factorial_recursive(n):\n",
    "    if n <= 1:\n",
    "        return 1\n",
    "    return n * factorial_recursive(n-1)\n",
    "\n",
    "print(\"반복적으로 구현: \", factorial_iterative(5))\n",
    "print(\"재귀적으로 구현: \", factorial_recursive(5))"
   ]
  },
  {
   "cell_type": "markdown",
   "metadata": {},
   "source": [
    "<h2>5-8. DFS</h2>\n",
    "graph = 인접 리스트 형태의 그래프 데이터<br>\n",
    "v = 현재 방문할 노드 번호<br>\n",
    "visited = 방문 여부를 기록하는 리스트<br>"
   ]
  },
  {
   "cell_type": "code",
   "execution_count": null,
   "metadata": {},
   "outputs": [],
   "source": [
    "def dfs(graph, v, visited):\n",
    "    # 현재 노드v를 방문했다고 표시\n",
    "    visited[v] = True\n",
    "    # 방문한 노드의 번호를 출력\n",
    "    print(v, end=' ')\n",
    "    # graph[v]에 저장된 인접 노드들을 하나씩 확인하면서,\n",
    "    for i in graph[v]:\n",
    "        if not visited[i]: #아직 방문하지 않은 노드라면\n",
    "            dfs(graph, i, visited) # dfs()를 재귀적으로 호출하여 깊이 탐색\n",
    "            \n",
    "\n",
    "# 각 인덱스 i는 노드 번호를 의미하고, 해당 인덱스의 리스트는 i번 노드와 연결된 노드들의 리스트\n",
    "# 예를 들어:\n",
    "# graph[1] = [2, 3, 8] → 1번 노드는 2, 3, 8번 노드와 연결됨\n",
    "# graph[3] = [1, 4, 5] → 3번 노드는 1, 4, 5번 노드와 연결됨\n",
    "graph = [\n",
    "    [],\n",
    "    [2, 3, 8],\n",
    "    [1, 7],\n",
    "    [1, 4, 5],\n",
    "    [3, 5],\n",
    "    [3, 4],\n",
    "    [7],\n",
    "    [2, 6, 8],\n",
    "    [1, 7]\n",
    "]\n",
    "\n",
    "# 각 노드가 방문된 정보를 리스트 자료형으로 표현(1차원 리스트) > 인덱스 1부터 8까지의 노드가 존재하므로, 크기가 9인 리스트를 생성 (0번 인덱스는 사용하지 않음)\n",
    "# False로 초기화하여 처음에는 모든 노드가 방문되지 않은 상태\n",
    "visited = [False] * 9\n",
    "\n",
    "dfs(graph, 1, visited)"
   ]
  },
  {
   "cell_type": "markdown",
   "metadata": {},
   "source": [
    "<h2>5-9. BFS</h2>\n",
    "1. 시작 노드를 큐에 넣고 방문 처리를 한다.<br>\n",
    "2. 큐에서 노드를 하나씩 꺼내면서 해당 노드와 연결된 모든 인접 노드를 방문한다.<br>\n",
    "3. 방문하지 않은 노드는 큐에 추가하고 방문 처리를 한다.<br>\n",
    "4. 큐가 빌 때까지 위 과정을 반복한다."
   ]
  },
  {
   "cell_type": "code",
   "execution_count": null,
   "metadata": {},
   "outputs": [],
   "source": [
    "from collections import deque\n",
    "\n",
    "def bfs(graph, start, visited):\n",
    "    queue = deque([start]) # 큐에 시작 노드 추가\n",
    "    visited[start] = True # 시작노드를 방문 처리\n",
    "    while queue: # 큐가 빌 때까지 반복\n",
    "        v = queue.popleft() #큐에서 하나의 원소를 뽑아 출력\n",
    "        print(v, end=' ')\n",
    "        for i in graph[v]: # 해당 원소와 연결된, 아직 방문하지 않은 원소들을 큐에 삽입\n",
    "            if not visited[i]: # 방문하지 않은 노드라면\n",
    "                queue.append(i) # 큐에 추가\n",
    "                visited[i] = True # 방문 처리\n",
    "\n",
    "\n",
    "graph = [\n",
    "    [],\n",
    "    [2, 3, 8],\n",
    "    [1, 7],\n",
    "    [1, 4, 5],\n",
    "    [3, 5],\n",
    "    [3, 4],\n",
    "    [7],\n",
    "    [2, 6, 8],\n",
    "    [1, 7]\n",
    "]\n",
    "\n",
    "visited = [False] * 9\n",
    "\n",
    "bfs(graph, 1, visited)"
   ]
  },
  {
   "cell_type": "markdown",
   "metadata": {},
   "source": [
    "<h2>5-10. DFS 활용 : 음료수 얼려먹기</h2>\n",
    "N * M 크기의 얼음틀이 있을 때, 구멍이 뚫려 있는 부분은 0, 칸막이가 존재하는 부분은 1로 표시<br>\n",
    "구멍이 뚫려 있는 부분끼리 상, 하, 좌, 우로 붙어 있는 경우 서로 연결되어 있는 것으로 간주<br>\n",
    "이때, 생성되는 아이스크림의 갯수 구하기<br>\n",
    "<br>\n",
    "1. 특정한 지점의 주변 상, 하, 좌, 우를 살펴본 뒤에 주변 지점 중에서 값이 0이면서 아직 방문하지 않은 지점이 있다면 해당 지점 방문<br>\n",
    "2. 방문한 지점에서 다시 상, 하, 좌, 우를 살펴보면서 방문을 다시 진행하면, 연결된 모든 지점을 방문할 수 있음<br>\n",
    "3. 1, 2번의 과정을 모든 노드에 반복하며 방문하지 않은 지점의 수를 셈<br>"
   ]
  },
  {
   "cell_type": "code",
   "execution_count": null,
   "metadata": {},
   "outputs": [],
   "source": [
    "# N, M을 공백으로 구분하여 입력받기\n",
    "n, m = map(int, input().split())\n",
    "\n",
    "# 2차원 리스트의 맵 정보 입력받기\n",
    "graph = []\n",
    "for i in range(n):\n",
    "    graph.append(list(map(int, input())))\n",
    "\n",
    "def dfs(x, y): \n",
    "    # 주어진 범위를 벗어나는 경우에는 즉시 종료\n",
    "    if x <= -1 or x >= n or y <= -1 or y >= m:\n",
    "        return False\n",
    "    # 현재 노드를 아직 방문하지 않았다면\n",
    "    if graph[x][y] == 0:\n",
    "        # 해당 노드 방문 처리\n",
    "        graph[x][y] = 1\n",
    "        # 상, 하, 좌, 우의 위치도 모두 재귀적으로 호출\n",
    "        dfs(x - 1, y)\n",
    "        dfs(x, y - 1)\n",
    "        dfs(x + 1, y)\n",
    "        dfs(x, y + 1)\n",
    "        return True\n",
    "    return False\n",
    "\n",
    "# 모든 노드에 대하여 음료수 채우기\n",
    "result = 0\n",
    "for i in range(n):\n",
    "    for j in range(m):\n",
    "        if dfs(i, j) == True:\n",
    "            result += 1\n",
    "\n",
    "print(result)"
   ]
  },
  {
   "cell_type": "markdown",
   "metadata": {},
   "source": [
    "<h2>5-11. BFS 활용 : 미로 탈출</h2>\n",
    "주어진 미로에서 (0, 0)에서 (N-1, M-1)까지 가는 최단 거리를 구하는 방식<br>\n",
    "미로에서 1은 이동 가능, 0은 이동 불가능한 벽을 의미"
   ]
  },
  {
   "cell_type": "code",
   "execution_count": null,
   "metadata": {},
   "outputs": [],
   "source": [
    "from collections import deque\n",
    "\n",
    "n, m = map(int, input().split())\n",
    "\n",
    "graph = []\n",
    "for i in range(n):\n",
    "    graph.append(list(map(int, input())))\n",
    "\n",
    "# 이동할 4가지 방향 정의(상, 하, 좌, 우)\n",
    "dx = [-1, 1, 0, 0]\n",
    "dy = [0, 0, -1, 1]\n",
    "\n",
    "def bfs(x, y):\n",
    "    queue = deque()\n",
    "    queue.append(x, y) # 시작 위치를 큐에 삽입\n",
    "\n",
    "    while queue: \n",
    "        x, y = queue.popleft() # 현 위치 꺼내기\n",
    "        for i in range(4): # 상하좌우 이동\n",
    "            nx = x + dx[i]\n",
    "            ny = y + dy[i]\n",
    "\n",
    "            if nx < 0 or ny < 0 or nx >= n or ny >= m: # 미로 범위를 벗어나면 무시\n",
    "                continue\n",
    "            if graph[nx][ny] == 0: # 벽(0)인 경우 무시\n",
    "                continue\n",
    "            if graph[nx][ny] == 1: # 방문하지 않은 노드일 경우 최단 거리 업데이트\n",
    "                graph[nx][ny] = graph[x][y] + 1 # 이전 거리 + 1\n",
    "                queue.append((nx, ny)) # 큐에 추가하여 계속 탐색\n",
    "    return graph[n-1][m-1]\n",
    "\n",
    "print(bfs(0,0))"
   ]
  }
 ],
 "metadata": {
  "language_info": {
   "name": "python"
  }
 },
 "nbformat": 4,
 "nbformat_minor": 2
}
