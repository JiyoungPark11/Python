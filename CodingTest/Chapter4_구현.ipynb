{
 "cells": [
  {
   "cell_type": "markdown",
   "metadata": {},
   "source": [
    "<h1>Chapter 4. 구현</h1>\n",
    "<h2> 머릿속에 있는 알고리즘을 정확하고 빠르게 프로그램으로 작성하기</h2>"
   ]
  },
  {
   "cell_type": "markdown",
   "metadata": {},
   "source": [
    "<h2>4-1. 상하좌우</h2>\n",
    "N * N 정사각형 공간 위에 서있다고 가정<br>\n",
    "N * N  크기의 정사각형 공간을 벗어나는 움직임은 무시됨<br>\n",
    "목표 : 이동 계획서가 주어졌을 때, 여행가 A가 최종적으로 도착할 지점의 좌표를 출력<br>"
   ]
  },
  {
   "cell_type": "code",
   "execution_count": null,
   "metadata": {},
   "outputs": [],
   "source": [
    "print(\"N을 입력하세요: \")\n",
    "n = int(input())\n",
    "x, y = 1, 1\n",
    "print(\"이동계획을 입력하세요(L, R, U, D 중): \")\n",
    "plans = input().split()\n",
    "\n",
    "dx = [0, 0, -1, 1]\n",
    "dy = [-1, 1, 0, 0]\n",
    "move_type = ['L', 'R', 'U', 'D']\n",
    "\n",
    "for plan in plans:\n",
    "    for i in range(len(move_type)):\n",
    "        if plan == move_type[i]:\n",
    "            nx = x + dx[i]\n",
    "            ny = y + dy[i]\n",
    "    if nx < 1 or ny < 1 or nx > n or ny > n:\n",
    "        continue\n",
    "    x, y = nx, ny\n",
    "\n",
    "print(x, y)\n"
   ]
  },
  {
   "cell_type": "markdown",
   "metadata": {},
   "source": [
    "<h2>4-2. 시각</h2>\n",
    "정수 n이 주어졌을 때, 00시00분00초 부터 n시 59분 59초까지의 모든 시각 중에 3이 하나라도 포함되는 모든 경우의 수를 구하는 프로그램<br>"
   ]
  },
  {
   "cell_type": "code",
   "execution_count": null,
   "metadata": {},
   "outputs": [],
   "source": [
    "print(\"시각h를 입력하세요: \")\n",
    "h = int(input())\n",
    "\n",
    "count = 0\n",
    "\n",
    "for i in range(h + 1):\n",
    "    for j in range(60):\n",
    "        for k in range(60):\n",
    "            if '3' in str(i) + str(j) + str(k):\n",
    "                count += 1\n",
    "\n",
    "print(count)"
   ]
  },
  {
   "cell_type": "markdown",
   "metadata": {},
   "source": [
    "<h2>4-3. 왕실의 나이트</h2>\n",
    "8 * 8 체스판이 존재할 때, 특정 위치에 있는 나이트가 이동할 수 있는 경우의 수 구하기<br>\n",
    "나이트는 L자로만 이동 가능하고 다음과 같은 2가지 경우로 이동할 수 있다<br>\n",
    "1. 수평으로 두 칸 이동한 뒤에 수직으로 한 칸 이동하기<br>\n",
    "2. 수직으로 두칸 이동한 위에 수평으로 한 칸 이동하기 <br>\n",
    "<br>\n",
    "ord() = 하나의 문자를 인자로 받고 해당 문자에 해당하는 유니코드 정수 반환"
   ]
  },
  {
   "cell_type": "code",
   "execution_count": null,
   "metadata": {},
   "outputs": [],
   "source": [
    "# 현재 나이트의 위치 입력 받기\n",
    "input_data = input()\n",
    "row = int(input_data[1])\n",
    "column = int(ord(input_data[0])) - int(ord('a') + 1)\n",
    "\n",
    "# 나이트가 이동할 수 있는 8가지 방향 정의\n",
    "steps = [(-2, -1), (-1, -2), (1, -2), (2, -1), (2, 1), (1, 2), (-1, -2), (-2, 1)]\n",
    "\n",
    "# 8가지 방향에 대하여 각 위치로 이동이 가능하지 확인\n",
    "result = 0\n",
    "for step in steps:\n",
    "    # 이동하고자 하는 위치 확인\n",
    "    next_row = row + step[0]\n",
    "    next_column = column + step[1]\n",
    "    # 해당 위치로 이동이 가능하다면 카운트 증가\n",
    "    if next_row >= 1 and next_row <= 8 and next_column >= 1 and next_column <= 8:\n",
    "        result += 1\n",
    "\n",
    "print(result)"
   ]
  },
  {
   "cell_type": "markdown",
   "metadata": {},
   "source": [
    "<h2>4-4. 게임 개발</h2>"
   ]
  },
  {
   "cell_type": "code",
   "execution_count": null,
   "metadata": {},
   "outputs": [],
   "source": []
  }
 ],
 "metadata": {
  "language_info": {
   "name": "python"
  }
 },
 "nbformat": 4,
 "nbformat_minor": 2
}
