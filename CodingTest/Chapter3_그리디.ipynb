{
 "cells": [
  {
   "cell_type": "markdown",
   "metadata": {},
   "source": [
    "<h1>Chapter 3. 그리디</h1>\n",
    "<h2> 현재 상황에서 가장 좋아 보이는 것만을 선택하는 알고리즘</h2>"
   ]
  },
  {
   "cell_type": "markdown",
   "metadata": {},
   "source": [
    "<h2>3-1. 거스름돈</h2>"
   ]
  },
  {
   "cell_type": "code",
   "execution_count": null,
   "metadata": {},
   "outputs": [],
   "source": [
    "n = 1260\n",
    "count = 0\n",
    "\n",
    "coin_type = [500, 100, 50, 10]\n",
    "\n",
    "for coin in coin_type:\n",
    "    count += n // coin # 해당 화폐로 거슬러 줄 수 있는 동전의 개수 세기\n",
    "    n %= coin # 나머지 거스름돈 구하기\n",
    "\n",
    "print(count)"
   ]
  },
  {
   "cell_type": "markdown",
   "metadata": {},
   "source": [
    "<h2>3-2. 큰수의 법칙  </h2>\n",
    "다양한 수로 이루어진 배열이 있을 때, 주어진 수들을 M번 더하여 가장 큰 수를 만들기<br>\n",
    "단, 배역의 특정한 인덱스에 해당하는 수가 연속해서 K번을 초과하여 더해질 수 없다"
   ]
  },
  {
   "cell_type": "code",
   "execution_count": null,
   "metadata": {},
   "outputs": [],
   "source": [
    "# N, M, K 를 공백으로 구분하여 입력받기\n",
    "print(\"N, M, K를 입력하세요(공백으로 구분): \")\n",
    "n, m, k = map(int, input().split())\n",
    "# N개의 수를 공백으로 구분하여 입력받기\n",
    "print(\"N개의 수를 입력하세요(공백으로 구분): \")\n",
    "data = list(map(int, input().split()))\n",
    "\n",
    "data.sort() #입력받은 수 정렬(오름차순)\n",
    "first = data[n-1] #가장 큰 수 \n",
    "second = data[n-2] #두 번째로 큰 수 "
   ]
  },
  {
   "cell_type": "code",
   "execution_count": null,
   "metadata": {},
   "outputs": [],
   "source": [
    "# Ver1.---------------------------------------------\n",
    " result = 0\n",
    "\n",
    " while True:\n",
    "     for i in range(k):\n",
    "         if m == 0:\n",
    "             break\n",
    "         result += first \n",
    "         m -= 1 \n",
    "     if m == 0:\n",
    "         break\n",
    "     result += second\n",
    "     m -= 1\n",
    "\n",
    " print(result)"
   ]
  },
  {
   "cell_type": "code",
   "execution_count": null,
   "metadata": {},
   "outputs": [],
   "source": [
    "# Ver2.시간복잡도 고려--------------------------------\n",
    "# 가장 큰 수가 더해지는 횟수 계산\n",
    "count = int(m / (k + 1)) * k\n",
    "count += m % (k + 1)\n",
    "\n",
    "result = 0\n",
    "result += (count) * first #가장 큰 수 더하기\n",
    "result += (m - count) * second # 두 번째로 큰 수 더하기\n",
    "\n",
    "print(result)"
   ]
  },
  {
   "cell_type": "markdown",
   "metadata": {},
   "source": [
    "<h2>3-3.숫자카드게임</h2>\n",
    "목표 : 여러 개의 숫자 카드 중에서 가장 높은 숫자가 쓰인 카드 한 장을 뽑는 것<br>\n",
    "아이디어 : 각 행마다 가장 작은 수를 찾은 뒤에 그 수 중에서 가장 큰 수를 찾는다"
   ]
  },
  {
   "cell_type": "code",
   "execution_count": null,
   "metadata": {},
   "outputs": [],
   "source": [
    "# N, M을 공백으로 구분하여 입력받기\n",
    "print(\"N * M 행렬의 크기를 입력하세요(공백으로 구분): \")\n",
    "n, m = map(int, input().split())\n",
    "\n",
    "result = 0"
   ]
  },
  {
   "cell_type": "code",
   "execution_count": null,
   "metadata": {},
   "outputs": [],
   "source": [
    "# Ver1. min()함수 사용-------------------------------------------\n",
    "for i in range(n):\n",
    "    data = list(map(int, input().split()))\n",
    "    min_val = min(data)\n",
    "    result = max(result, min_val)\n",
    "\n",
    "print(result)"
   ]
  },
  {
   "cell_type": "code",
   "execution_count": null,
   "metadata": {},
   "outputs": [],
   "source": [
    "# Ver2. 이중 반복문 사용-------------------------------------------\n",
    "for i in range(n):\n",
    "    data = list(map(int, input().split()))\n",
    "    min_val = 10001\n",
    "    for a in data:\n",
    "        min_val = min(min_val, a)\n",
    "    result = max(result, min_val)\n",
    "\n",
    "print(result)"
   ]
  },
  {
   "cell_type": "markdown",
   "metadata": {},
   "source": [
    "<h2>3-4. 1이 될 때까지</h2>\n",
    "어떤 수 N이 1이 될 때까지 다음 두 과정 중 하나를 반복적으로 선택하여 수행한다.<br>\n",
    "단, 두번째 연산은 N이 K로 나누어 떨어질 때만 선택할 수 있다<br>\n",
    "1. N에서 1을 뺀다<br>\n",
    "2. N을 K로 나눈다"
   ]
  },
  {
   "cell_type": "code",
   "execution_count": null,
   "metadata": {},
   "outputs": [],
   "source": [
    "print(\"N과 K를 입력하세요(공백으로 구분): \")\n",
    "n, k = map(int, input().split())\n",
    "\n",
    "result = 0\n",
    "\n",
    "while n >= k:\n",
    "    while n % k != 0: # n이 k 이상이라면 k로 나누기\n",
    "        n -= 1\n",
    "        result += 1\n",
    "    n //= k # k로 나누기\n",
    "    result  += 1\n",
    "\n",
    "# 마지막으로 남은 수에 대하여 1씩 빼기\n",
    "while n > 1:\n",
    "    n -= 1\n",
    "    result += 1\n",
    "\n",
    "print(result)"
   ]
  }
 ],
 "metadata": {
  "language_info": {
   "name": "python"
  }
 },
 "nbformat": 4,
 "nbformat_minor": 2
}
