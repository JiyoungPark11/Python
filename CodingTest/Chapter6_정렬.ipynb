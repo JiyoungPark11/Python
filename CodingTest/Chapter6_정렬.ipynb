{
 "cells": [
  {
   "cell_type": "markdown",
   "metadata": {},
   "source": [
    "<h2>6-1. 선택 정렬</h2>\n",
    "매번 가장 작은 것을 선택하여 정렬<br>\n",
    "가장 작은 데이터를 앞으로 보내는 과정은 N - 1번 반복하면 정렬이 완료됨<br>\n",
    "데이터가 10,000개 이상이면 정렬 속도가 급격히 느려짐<br>\n",
    "알고리즘 문제 풀이에서 사용하기에는 느린 편"
   ]
  },
  {
   "cell_type": "code",
   "execution_count": null,
   "metadata": {},
   "outputs": [],
   "source": [
    "array = [7, 5, 9, 0, 3, 1, 6, 2, 4, 8]\n",
    "\n",
    "for i in range(len(array)): # array의 길이만큼 반복하여 수행\n",
    "    min_index = i # 현재 위치를 최소값(i)의 위치로 가정\n",
    "    for j in range(i+1, len(array)): # i 이후의 요소들을 검사\n",
    "        if array[min_index] > array[j]: # 더 작은 값을 찾으면\n",
    "            min_index = j # 최소값의 인덱스 갱신\n",
    "    array[i], array[min_index] = array[min_index], array[i] # 현재 위치와 최소값 위치를 스와핑\n",
    "\n",
    "print(array)"
   ]
  },
  {
   "cell_type": "markdown",
   "metadata": {},
   "source": [
    "<h2>6-3. 삽입 정렬</h2>\n",
    "특정한 데이터를 적절한 위치에 삽입<br>\n",
    "정렬이 이루어진 원소는 항상 오름차순을 유지하고 있음"
   ]
  },
  {
   "cell_type": "code",
   "execution_count": null,
   "metadata": {},
   "outputs": [],
   "source": [
    "array = [7, 5, 9, 0, 3, 1, 6, 2, 4, 8]\n",
    "\n",
    "for i in range(len(array)):\n",
    "    for j in range(i, 0, -1): # 인덱스 i부터 1까지 감소하며 반복\n",
    "        if array[j] < array[j-1]: # 현재 값이 왼쪽 값보다 작으면 스왑\n",
    "            array[j], array[j-1] = array[j-1], array[j]\n",
    "        else:\n",
    "            break # 이미 정렬된 부분이므로 중단\n",
    "\n",
    "print(array)"
   ]
  },
  {
   "cell_type": "markdown",
   "metadata": {},
   "source": [
    "<h2>6-4. 퀵 정렬</h2>\n",
    "기준 데이터를 설정하고 그 기준보다 큰 데이터와 작은 데이터의 위치를 스왑 후 리스트트 반으로 나누기<br>\n",
    "피벗 사용 : 큰 숫자와 작은 숫자를 교환할 때, 교환 하기 위한 기준<br>\n",
    "호어 분할 : 리스트에서 첫 번째 데이터를 피벗으로 정함<br>\n",
    "호어 분할 이후에는 피벗 기준으로 왼쪽은 피벗보다 작은 데이터, 오른쪽은 피벗보다 큰 데이터로 정렬됨<br>\n",
    "이 후에 왼쪽, 오른쪽 각각 정렬 방식은 이전과 같이 진행(호어분할 후 정렬)<br>\n",
    "재귀 함수로 구현하면 간결함<br>\n",
    "퀵 정렬이 끝나는 조건 = 현재 리스트의 데이터 개수가 1개인 경우<br>\n",
    "호어 분할을 택하는 경우, 삽입 정렬과 반대로 이미 데이터가 정렬되어 있는 경우 매두 느리게 동작"
   ]
  },
  {
   "cell_type": "code",
   "execution_count": null,
   "metadata": {},
   "outputs": [],
   "source": [
    "# 1.기본 구현\n",
    "array = [7, 5, 9, 0, 3, 1, 6, 2, 4, 8]\n",
    "def quick_sort(array, start, end):\n",
    "    if start >= end: # 원소가 1개인 경우 정렬됐다고 보고 종료\n",
    "        return\n",
    "    pivot = start # 피벗은 첫번째 원소\n",
    "    left = start + 1 # 피벗보다 큰 값을 찾기 위한 왼쪽 포인터\n",
    "    right = end # 피벗보다 작은 값을 찾기 위한 오른쪽 포인터\n",
    "\n",
    "    while left <= right: \n",
    "        while left <= end and array[right] <= array[pivot]: # 피벗보다 큰 데이터를 찾을 때까지 left 이동\n",
    "            left += 1\n",
    "        while right > start and array[right] >= array[pivot]: # 피벗보다 작은 데이터를 작을 때까지 right 이동\n",
    "            right += 1\n",
    "        if left > right: # 포인터가 엇갈린 경우, 피벗과 작은 값을 교체\n",
    "            array[right], array[pivot] = array[pivot], array[right]\n",
    "        else: # 엇갈리지 않았다면, 작은 데이터와 큰 데이터를 교체\n",
    "            array[left], array[right] = array[right], array[left]\n",
    "\n",
    "    # 분할 후, 왼쪽과 오른쪽 부분을 각각 정렬(재귀 호출)\n",
    "    quick_sort(array, start, right-1)\n",
    "    quick_sort(array, right+1, end)\n",
    "\n",
    "quick_sort(array, 0, len(array)-1)\n",
    "print(array)"
   ]
  },
  {
   "cell_type": "code",
   "execution_count": null,
   "metadata": {},
   "outputs": [],
   "source": [
    "# 2. 파이썬 장점을 살린 퀵 정렬 소스코드\n",
    "def quick_sort(array):\n",
    "    if len(array) <= 1: # 리스트가 1개 이하 원소만 담고 있다면 종료\n",
    "        return array\n",
    "    \n",
    "    pivot = array[0] # 피벗은 첫번째 요소\n",
    "    tail = array[1:] # 피벗을 제외한 리스트\n",
    "\n",
    "    left_side = [x for x in tail if x <= pivot] # 분할된 왼쪽 리스트\n",
    "    right_side = [x for x in tail if x > pivot] # 분할된 오른쪽 리스트\n",
    "\n",
    "    # 분할 이후 왼쪽 부분과 오른쪽 부분에서 각각 정렬을 수행하고, 전체 리스트를 반환\n",
    "    return quick_sort(left_side) + [pivot] + quick_sort(right_side)\n",
    "\n",
    "print(quick_sort(array))"
   ]
  },
  {
   "cell_type": "markdown",
   "metadata": {},
   "source": [
    "<h2>6-6. 계수 정렬</h2>\n",
    "계수 정렬 : 데이터의 크기 범위가 제한된 경우 매우 빠르게 정렬할 수 있는 알고리즘<br>\n",
    "데이터의 크기 범위가 제한되어 정수 현태로 표현할 수 있을 때만 사용 가능<br>\n",
    "가장 큰 데이터와 가장 작은 데이터의 차이가 너무 크면 사용할 수 없음<br>\n",
    "왜? 모든 범위를 담을 수 있는 크기의 리스트를 선언해야 하기 때문<br>\n",
    "데이터를 하나씩 확인하며 데이터의 값과 동일한 인덱스의 값을 1씩 증가시키면 계수 정렬이 완료 됨<br>\n",
    "만약 같은 숫자가 2번 이상 나왔다면 인덱스 값이 2 이상으로 올라가게 되고 출력할 때는 인덱스의 값 만큼 해당 숫자를 프린트 하면 됨<br>\n",
    "<br>\n",
    "ex) 5가 2번 나왔다면 5번 인덱스의 값은 2이고 출력될 때는 55 이렇게 출력하면 됨<br>\n",
    "계수 정렬은 데이터의 크기가 한정되어 있고 데이터의 크기가 많이 중복되어 있을수록 유리<br>"
   ]
  },
  {
   "cell_type": "code",
   "execution_count": null,
   "metadata": {},
   "outputs": [],
   "source": [
    "# 모든 원소의 값이 0보다 크거나 같다고 가정\n",
    "array = [7, 5, 9, 0, 3, 1, 6, 2, 9, 1, 4, 8, 0, 5, 2]\n",
    "\n",
    "# 모든 범위를 포함하는 리스트 선언(모든 값은 0으로 초기화)\n",
    "# (max(array) + 1) -> 인덱스 번호를 맞추기 위해 최대값보다 1 크게 설정\n",
    "count = [0] * (max(array) + 1)\n",
    "\n",
    "for i in range(len(array)):\n",
    "    count[array[i]] += 1 # 각 데이터에 해당하는 인덱스의 값 증가\n",
    "\n",
    "for i in range(len(count)): # 0부터 max(array)까지 반복\n",
    "    for j in range(count[i]): # 해당 숫자가 등장한 횟수만큼 반복\n",
    "        print(i, end=' ') # i가 등장한 횟수만큼 출력"
   ]
  },
  {
   "cell_type": "markdown",
   "metadata": {},
   "source": [
    "<h2>6-7. sorted</h2>\n",
    "sorted() : 파이썬 기본 정렬 라이브러리 <br>\n",
    "퀵 정렬과 동작방식이 비슷(병합 정렬 기반)<br>\n",
    "리스트, 딕셔너리 자료형 등을 받아서 리스트 자료형으로 출력"
   ]
  },
  {
   "cell_type": "code",
   "execution_count": null,
   "metadata": {},
   "outputs": [],
   "source": [
    "array = [7, 5, 9, 0, 3, 1, 6, 2, 4, 8]\n",
    "\n",
    "result = sorted(array)\n",
    "print(result)"
   ]
  },
  {
   "cell_type": "markdown",
   "metadata": {},
   "source": [
    "sort() : 리스트 객체의 내장 함수<br>\n",
    "리스트 변수가 하나 있을 때, 내부 원소 바로 정렬 가능<br>\n",
    "별도의 정렬된 리스트가 반환되는 것이 아니라 내부 원소가 바로 정렬됨<br>"
   ]
  },
  {
   "cell_type": "code",
   "execution_count": null,
   "metadata": {},
   "outputs": [],
   "source": [
    "array.sort()\n",
    "print(array)"
   ]
  },
  {
   "cell_type": "markdown",
   "metadata": {},
   "source": [
    " sorted() 와 sort()를 사용할 때 key 매개변수를 입력으로 받을 수 있음<br>\n",
    " key 값 : 하나의 함수가 들어가야함 > 정렬 기준이 됨<br>\n",
    " ex) 각 데이터의 두 번째 원소를 기준으로 설정하는 경우"
   ]
  },
  {
   "cell_type": "code",
   "execution_count": null,
   "metadata": {},
   "outputs": [],
   "source": [
    "array = [('바나나', 2), ('사과', 5), ('당근', 3)]\n",
    "\n",
    "def setting(data):\n",
    "    return data[1] # 숫자 기준으로 정렬\n",
    "\n",
    "result = sorted(array, key=setting)\n",
    "print(result)"
   ]
  },
  {
   "cell_type": "markdown",
   "metadata": {},
   "source": [
    "<h2>6-10. 위에서 아래로</h2>\n",
    "1. 첫째 줄에 수열에 속해 있는 개수 n 입력받음<br>\n",
    "2. 둘째 줄부터 n+1번째 줄까지 n개의 수를 입력받음<br>\n",
    "3. 입력받은 수를 내림차순 정렬"
   ]
  },
  {
   "cell_type": "code",
   "execution_count": null,
   "metadata": {},
   "outputs": [],
   "source": [
    "n = int(input())\n",
    "\n",
    "array = []\n",
    "for i in range(n):\n",
    "    array.append(int(input()))\n",
    "\n",
    "array = sorted(array, reverse=True)\n",
    "\n",
    "print(array)"
   ]
  },
  {
   "cell_type": "markdown",
   "metadata": {},
   "source": [
    "<h2>6-11. 성적 낮은 학생 출력</h2>\n",
    "Q. 학생 정보가 주어졌을 때(예: 홍길동 95) 성적이 낮은 순서대로 학생 이름 출력<br>\n",
    "첫번째 줄 : 학생 수 n 입력<br>\n",
    "두번째 줄 ~ N + 1번째 줄 : 학생이름 [공백] 점수 n개 입력<br>\n",
    "<br>\n",
    "<h3>lambda 함수 사용법</h3>\n",
    "lambda 매개변수1, 매개변수2 ... : return할 표현식"
   ]
  },
  {
   "cell_type": "code",
   "execution_count": null,
   "metadata": {},
   "outputs": [],
   "source": [
    "n = int(input())\n",
    "\n",
    "array = []\n",
    "for i in range(n):\n",
    "    input_data = input().split()\n",
    "    array.append((input_data[0], int(input_data[1]))) # 학생 정보를 (점수, 이름) 튜플 형태로 묶어야함\n",
    "\n",
    "array = sorted(array, key=lambda student: student[1])\n",
    "\n",
    "for student in array:\n",
    "    print(student[0], end=' ')"
   ]
  },
  {
   "cell_type": "markdown",
   "metadata": {},
   "source": [
    "<h2>6-12. 두 개의 배열 원소 교체</h2>\n",
    "문제: <br>\n",
    "두 개의 배열 a, b를 가지고 있을 때, 두 배열은 n개의 원소로 이루어져 있고 k번 바꿔치기 할 수 있음<br>\n",
    "이때, a 배열의 원소 합이 최대가 되도록 바꿔치기 할 것<br>\n",
    "<br>\n",
    "아이디어<br>\n",
    "a 배열은 오름차순 정렬하여 작은 수를 앞쪽에 배치<br>\n",
    "b 배열은 내림차순 정렬하여 큰 수를 앞쪽에 배치<br>\n",
    "두 배열을 같은 인덱스끼리 비교하여 a의 수가 작으면 b의 원소와 교체하고 아니면 넘어감<br>"
   ]
  },
  {
   "cell_type": "code",
   "execution_count": null,
   "metadata": {},
   "outputs": [],
   "source": [
    "n, k = map(int, input().split())\n",
    "a = list(map(int, input().split()))\n",
    "b = list(map(int, input().split()))\n",
    "\n",
    "a.sort()\n",
    "b.sort(reverse=True)\n",
    "\n",
    "for i in range(k):\n",
    "    if a[i] < b[i]:\n",
    "        a[i], b[i] = b[i], a[i]\n",
    "    else:\n",
    "        break\n",
    "\n",
    "print(sum(a))"
   ]
  }
 ],
 "metadata": {
  "language_info": {
   "name": "python"
  }
 },
 "nbformat": 4,
 "nbformat_minor": 2
}
