{
 "cells": [
  {
   "cell_type": "markdown",
   "metadata": {},
   "source": [
    "<h1>Chapter 7. 이진탐색</h1>\n",
    "<h2> 탐색 범위를 반으로 좁혀가며 빠르게 탐색하는 알고리즘</h2>"
   ]
  },
  {
   "cell_type": "markdown",
   "metadata": {},
   "source": [
    "<h2>7-1. 순차탐색</h2>\n",
    "순차적으로 데이터를 탐색<br>\n",
    "리스트의 데이터에 하나씩 방문하며 특정한 문자열과 같은지 검사"
   ]
  },
  {
   "cell_type": "code",
   "execution_count": null,
   "metadata": {},
   "outputs": [
    {
     "data": {
      "text/plain": [
       "생성할 원소 개수를 입력한 다름 한 칸 띄고 찾을 문자열을 입력하세요.\n",
       "Traceback (most recent call last):\n",
       "  File \"c:\\Users\\user\\.vscode\\extensions\\ms-python.python-2025.0.0-win32-x64\\python_files\\python_server.py\", line 133, in exec_user_input\n",
       "    retval = callable_(user_input, user_globals)\n",
       "  File \"<string>\", line 7, in <module>\n",
       "AttributeError: 'NoneType' object has no attribute 'split'\n",
       "\n"
      ]
     },
     "metadata": {},
     "output_type": "display_data"
    }
   ],
   "source": [
    "def sequential_search(n, target, array):\n",
    "    for i in range(n):\n",
    "        if array[i] == target:\n",
    "            return print(f\"찾고자 하는 문자열은 {i+1}번째에 있습니다\")\n",
    "        \n",
    "print(\"생성할 원소 개수를 입력한 다름 한 칸 띄고 찾을 문자열을 입력하세요.\")\n",
    "input_data = input().split()\n",
    "n = int(input_data[0]) \n",
    "target = input_data[1]\n",
    "\n",
    "print(\"앞서 적은 원소 개수만큼 문자열을 입력하세요. 구분은 띄어쓰기 한 칸으로 합니다.\")\n",
    "array = input().split()\n",
    "\n",
    "sequential_search(n, target, array)"
   ]
  },
  {
   "cell_type": "markdown",
   "metadata": {},
   "source": [
    "<h2>7-2. 이진탐색</h2>\n",
    "내부의 데이터가 정렬되어 있어야만 사용할 수 있음<br>\n",
    "위치를 나타내는 변수 3개를 사용함<br>\n",
    "1. 탐색하고자 하는 범위의 시작점<br>\n",
    "2. 끝점<br>\n",
    "3. 중간점<br>\n",
    "찾으려는 데이터와 중간점 위치에 있는 데이터를 반복적으로 비교해서 원하는 데이터를 찾음"
   ]
  },
  {
   "cell_type": "code",
   "execution_count": null,
   "metadata": {},
   "outputs": [],
   "source": [
    "# 재귀 함수로 구현한 이진탐색 소스코드\n",
    "def binary_search(array, target, start, end):\n",
    "    if start > end:\n",
    "        return None\n",
    "    \n",
    "    mid = (start + end) // 2\n",
    "\n",
    "    if array[mid] == target: # 찾은 경우 중간점 인덱스 반환\n",
    "        return mid\n",
    "    elif array[mid] > target: # 중간점의 값보다 찾고자 하는 값이 작은 경우 왼쪽 확인\n",
    "        return binary_search(array, target, start, mid - 1)\n",
    "    else: # 중간점의 값보다 찾고자 하는 값이 큰 경우 오른쪽 확인\n",
    "        return binary_search(array, target, mid + 1, end)\n",
    "    \n",
    "# n = 원소의 개수\n",
    "# target = 찾고자 하는 문자열 \n",
    "# array = 전체 원소 리스트    \n",
    "n, target = list(map(int, input().split()))\n",
    "arary = list(map(int, input().split()))\n",
    "\n",
    "result = binary_search(array, target, 0, n - 1)\n",
    "if result == None:\n",
    "    print(\"원소가 존재하지 않습니다.\")\n",
    "else:\n",
    "    print(result + 1)"
   ]
  },
  {
   "cell_type": "code",
   "execution_count": null,
   "metadata": {},
   "outputs": [],
   "source": [
    "# 반복문으로 구현한 이진탐색 소스코드\n",
    "def binary_search(array, target, start, end):\n",
    "    while start <= end:\n",
    "        mid = (start + end) // 2\n",
    "        if array[mid] == target:\n",
    "            return mid\n",
    "        elif array[mid] >target:\n",
    "            end = mid + 1\n",
    "        else:\n",
    "            start = mid + 1\n",
    "    return None\n",
    "\n",
    "n, target = list(map(int, input().split()))\n",
    "arary = list(map(int, input().split()))\n",
    "\n",
    "result = binary_search(array, target, 0, n - 1)\n",
    "if result == None:\n",
    "    print(\"원소가 존재하지 않습니다.\")\n",
    "else:\n",
    "    print(result + 1)"
   ]
  },
  {
   "cell_type": "markdown",
   "metadata": {},
   "source": [
    "<h2>7-4. 빠르게 입력받기</h2>\n",
    "데이터의 개수가 1,000만 개를 넘어가거나 탐색 범위의 크기가 1,000억 이상이라면 이진 탐색 알고리즘을 의심할 것<br>\n",
    "이렇게 입력 데이터의 개수가 많은 문제에서 input()함수를 사용하면 동작 속도가 느려서 시간 초과로 오답 판정을 받을 수 있음<br>\n",
    "이처럼 입력 데이터가 많은 경우에는 sys 라이브러리의 readline() 함수를 이용하자!<br>\n",
    "sys 라이브러리를 사용할 때는 한 줄 입력 받고 나서 rstrip() 함수를 꼭 호출해야함<br>\n",
    "readline()의 경우 입력 후 엔터가 줄 바꿈 기호로 입력되는데, 이 공백 문자를 제거하려면 rstrip()함수를 사용해야함<br>"
   ]
  },
  {
   "cell_type": "code",
   "execution_count": null,
   "metadata": {},
   "outputs": [],
   "source": [
    "import sys\n",
    "\n",
    "input_data = sys.stdin.readline().rstrip()\n",
    "print(input_data)"
   ]
  },
  {
   "cell_type": "markdown",
   "metadata": {},
   "source": [
    "<h2>7-5. 부품 찾기</h2>\n",
    "전자 매장에 N개의 부품이 있고, 손님이 M개 종류의 부품을 구매한다고 한다<br>\n",
    "손님이 요청한 부품 번호의 순서대로 부품을 확인해서 부품이 있으면 yes, 없으면 no를 출력<br>"
   ]
  },
  {
   "cell_type": "code",
   "execution_count": null,
   "metadata": {},
   "outputs": [],
   "source": [
    "# 이진 탐색 사용 ver.\n",
    "def binary_search(array, target, start, end):\n",
    "    while start <= end:\n",
    "        mid = (start + end) // 2\n",
    "        if array[mid] == target:\n",
    "            return mid\n",
    "        elif array[mid] > target:\n",
    "            end = mid - 1\n",
    "        else:\n",
    "            start = mid + 1\n",
    "    return None\n",
    "\n",
    "n = int(input())\n",
    "array = list(map(int, input().split()))\n",
    "array.sort()\n",
    "\n",
    "m = int(input())\n",
    "x = list(map(int, input().split()))\n",
    "\n",
    "for i in x:\n",
    "    result = binary_search(array, i, 0, n - 1)\n",
    "    if result != None:\n",
    "        print('yes', end=' ')\n",
    "    else:\n",
    "        print('no', end=' ')"
   ]
  },
  {
   "cell_type": "code",
   "execution_count": null,
   "metadata": {},
   "outputs": [],
   "source": [
    "# 계수 정렬 사용 ver.\n",
    "# 모든 원소의 번호를 포함할 수 있는 크기의 리스트를 만든 후에 리스트의 인덱스에 직접 접근하여 특정 번호의 부품이 매장에 존재하는지 확인\n",
    "n = int(input())\n",
    "array = [0] * 1000001\n",
    "\n",
    "# 가게에 있는 전체 부품 번호를 입력받아서 기록\n",
    "for i in input().split():\n",
    "    array[int(i)] = 1\n",
    "\n",
    "m = int(input())\n",
    "x = list(map(int, input().split()))\n",
    "\n",
    "for i in x:\n",
    "    if array[i] == 1:\n",
    "        print('yes', end=' ')\n",
    "    else:\n",
    "        print('no', end=' ')"
   ]
  },
  {
   "cell_type": "code",
   "execution_count": null,
   "metadata": {},
   "outputs": [],
   "source": [
    "# 집합 자료형 사용 ver.\n",
    "n = int(input())\n",
    "# 가게에 있는 젗네 부품 번호를 입력받아서 집합(set) 자료형에 기록\n",
    "# 집합(set) 사용시, 원소 존재 여부를 빠르게 검사할 수 있음(해시 기반 관리)\n",
    "array = set(map(int, input().split())) \n",
    "\n",
    "m = int(input())\n",
    "x = list(map(int, input().split()))\n",
    "\n",
    "for i in x:\n",
    "    if i in array:\n",
    "        print('yes', end=' ')\n",
    "    else: \n",
    "        print('no', end=' ')"
   ]
  },
  {
   "cell_type": "markdown",
   "metadata": {},
   "source": [
    "<h2>7-5. 떡볶이 떡 만들기</h2>\n",
    "[문제]\n",
    "한 봉지 안에 들어가는 떡의 총 길이는 절단기로 잘라서 맞추지만 개별 떡의 길이는 모두 다름<br>\n",
    "절단기에 높이h를 지정하면 떡들을 한번에 절단함<br>\n",
    "19, 14, 10, 17 cm 인 떡이 있을 때, 15cm 기준으로 절단하면 각각 4, 0, 0, 2cm가 잘리고 손님은 총 6cm의 떡을 가져감<br>\n",
    "손님이 요청한 총 길이가 m일 때, 적어도 m만큼의 떡을 얻기 위해 절단기에 설정할 수 있는 높이의 최댓값을 구하는 프로그램을 작성하시오<br>\n",
    "<br>\n",
    "[해설]<br>\n",
    "전형적인 이진 탐색 문제이자 파라메트릭 서치 유형의 문제<br>\n",
    "파라메트릭 서치는 최적화 문제를 결정 문제로 바꾸어 해결하는 기법<br>\n",
    "워하는 조건을 만족하는 가장 알맞은 값을 찾는 문제에 주로 파라메트릭 서치를 사용함<br>\n",
    "아이디어 : 적절한 높이를 찾을 때까지 절단기의 높이 h를 반복해서 조정<br>\n",
    "절단기 높이 h는 0부터 가장 긴떡의 길이 안에 있어야만 떡을 자를 수 있음<br>\n"
   ]
  },
  {
   "cell_type": "code",
   "execution_count": null,
   "metadata": {},
   "outputs": [],
   "source": [
    "# n = 떡의 개수\n",
    "# m = 요청한 떡의 길이\n",
    "# array = 각 떡의 개별 높이 정보 리스트\n",
    "n, m = list(map(int, input().split(' ')))\n",
    "array = list(map(int, input().split()))\n",
    "\n",
    "# 이진 탐색을 위한 시작점과 끝점 설정\n",
    "start = 0\n",
    "end = max(array)\n",
    "\n",
    "result = 0\n",
    "while(start <= end):\n",
    "    total = 0\n",
    "    mid = (start + end) // 2 # mid = 현재 절단기 높이\n",
    "    for x in array:\n",
    "        if x > mid: # 잘랐을 때의 떡의 양 계산(mid보다 떡 길이가 길면, 잘려나가는 부분을 total에 더함)\n",
    "            total += x - mid\n",
    "    \n",
    "    if total < m: # 자른 떡의 길이 합이 부족할 경우 더 많이 자르기(왼쪽 부분 탐색)\n",
    "        end = mid - 1 # 절단기 높이를 더 낮춤\n",
    "    else: # 자른 떡의 길이 합이 충분한 경우 덜 자르기(오른쪽 부분 탐색)\n",
    "        result = mid # 현재 mid가 가능한 높이이고 최대한 덜 잘랐을 때가 정답이므로, 일단 여기에서 result에 기록\n",
    "        start =  mid + 1 # 절단기를 더 높여볼 수 있는지 확인(떡을 덜 자르고 싶음)\n",
    "\n",
    "print(result)"
   ]
  }
 ],
 "metadata": {
  "language_info": {
   "name": "python"
  }
 },
 "nbformat": 4,
 "nbformat_minor": 2
}
