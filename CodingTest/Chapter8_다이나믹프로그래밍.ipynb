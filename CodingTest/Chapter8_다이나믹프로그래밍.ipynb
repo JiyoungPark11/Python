{
 "cells": [
  {
   "cell_type": "markdown",
   "metadata": {},
   "source": [
    "<h1> Chapter 8. 다이나믹 프로그래밍</h1>\n",
    "<h2> 한 번 계산한 문제를 다시 계산하지 않도록 하는 알고리즘</h2>\n",
    "다음 조건을 만족할 때, 다이나믹 프로그래밍을 사용할 수 있다<br>\n",
    "1. 큰 문제를 작은 문제로 나눌 수 있다<br>\n",
    "2. 작은 문제에서 구한 정답은 그것을 포함하는 큰 문제에서도 동일하다<br>"
   ]
  },
  {
   "cell_type": "markdown",
   "metadata": {},
   "source": [
    "<h3>8-2. 피보나치 수열 소스코드(재귀적)</h3>\n",
    "메모이제이션 기법(탑다운 방식) = 한 번 구한 결과를 메모리 공간에 메모해두고 같은 식을 다시 호출하면 메모한 결과를 그대로 가져오는 기법<br>\n",
    "값을 저장하는 방법으로 캐싱이라고도 함<br>\n",
    "실제 구현은 한 번 구한 정보를 리스트에 저장해서 구현"
   ]
  },
  {
   "cell_type": "code",
   "execution_count": null,
   "metadata": {},
   "outputs": [],
   "source": [
    "# 메모이제이션하기 위한 리스트 초기화\n",
    "d = [0] * 100\n",
    "\n",
    "def fibo(x):\n",
    "    if x == 1 or x == 2:\n",
    "        return 1\n",
    "    \n",
    "    # 이미 계산한 적 있는 문제라면 그대로 반환\n",
    "    if d[x] != 0:\n",
    "        return d[x]\n",
    "    \n",
    "    # 아직 계산하지 않은 문제라면 점화식에 따라서 피보나치 결과 반환\n",
    "    d[x] = fibo(x-1) + fibo(x-2)\n",
    "    return d[x]\n",
    "\n",
    "print(fibo(99))"
   ]
  },
  {
   "cell_type": "markdown",
   "metadata": {},
   "source": [
    "<h3>8-4. 피보나치 수열 소스코드(반복적)</h3>\n",
    "바텀업 방식<br>\n",
    "다이나믹 프로그래밍의 전형적인 형태는 바텀업 방식임"
   ]
  },
  {
   "cell_type": "code",
   "execution_count": null,
   "metadata": {},
   "outputs": [],
   "source": [
    "d = [0] * 100\n",
    "\n",
    "d[1] = 1\n",
    "d[2] = 2\n",
    "n = 99\n",
    "\n",
    "for i in range(3, n+1):\n",
    "    d[i] = d[i-1] + d[i-2]\n",
    "\n",
    "print(d[n])"
   ]
  },
  {
   "cell_type": "markdown",
   "metadata": {},
   "source": [
    "<h3>8-5. 1로 만들기</h3>\n",
    "정수 x가 주어질 때, 정수 x에 사용할 수 있는 연산은 다음과 4가지와 같다<br>\n",
    "1. x가 5로 나누어떨어지면 5로 나눈다<br>\n",
    "2. x가 3으로 나누어떨어지면 3으로 나눈다<br>\n",
    "3. x가 2로 나누어떨어지면 2로 나눈다<br>\n",
    "4. x에서 1을 뺀다.\n",
    "<br>\n",
    "\n",
    "연산 4개를 적절히 사용해서 1을 만들려고 할 때, 연산을 사용하는 횟수의 최솟값을 출력하시오<br>"
   ]
  },
  {
   "cell_type": "code",
   "execution_count": null,
   "metadata": {},
   "outputs": [],
   "source": [
    "x = int(input())\n",
    "\n",
    "# d[i] = 정수 i를 1로 만드는 연산 횟수의 최솟값을 저장하는 리스트\n",
    "d = [0] * 30001\n",
    "\n",
    "for i in range(2, x + 1):\n",
    "    # 현재 수에서 1을 빼는 경우\n",
    "    d[i] = d[i-1] + 1\n",
    "\n",
    "    # 현재의 수가 2로 나누어떨어지는 경우\n",
    "    if i % 2 == 0:\n",
    "        d[i] = min(d[i], d[i //2] + 1)\n",
    "    \n",
    "    # 현재의 수가 3으로 나누어떨어지는 경우 \n",
    "    if i % 3 == 0:\n",
    "        d[i] = min(d[i], d[i // 3] + 1) # 기존에 계산된 d[i]와 ‘나누기 3 연산’을 추가한 횟수 중 더 작은 값을 d[i]로 결정한다는 의미\n",
    "\n",
    "    # 현재의 수가 5로 나누어떨어지는 경우\n",
    "    if i % 5 == 0:\n",
    "        d[i] = min(d[i], d[i // 5] + 1)\n",
    "\n",
    "print(d[x])"
   ]
  },
  {
   "cell_type": "markdown",
   "metadata": {},
   "source": [
    "<h3>8-6. 개미 전사</h3>\n",
    "일렬로 있는 식량 창고를 턴다고 했을 때, 들키지 않고 약탈하기 위해서는 최소한 한 칸 이상 떨어진 식량창고를 약탈해야한다<br>\n",
    "식량창고 n개에 대한 정보가 주어졌을 때 얻을 수 있는 식량의 최댓값을 구하는 프로그램을 작성하시오<br>\n",
    "[아이디어]<br>\n",
    "1. i - 1번째 식량창고를 털기로 결정한 경우, 현재의 식량창고를 털 수 없다<br>\n",
    "2. i - 2번째 식량창고를 털기로 결정한 경우, 현재의 식량창고를 털 수 있다<br>\n",
    "둘 중에 더 많은 식량을 털 수 있는 경우를 선택하면 됨<br>\n",
    "i - 3번째 이하의 식량창고에 대한 최적 해에 대해서는 고려할 필요가 없다.<br>\n",
    "왜냐하면 i - 3은 i - 1과 i - 2를 구하는 과정에서 이미 계산(고려)되었기 때문이다"
   ]
  },
  {
   "cell_type": "code",
   "execution_count": null,
   "metadata": {},
   "outputs": [],
   "source": [
    "n = int(input())\n",
    "array = list(map(int, input().split()))\n",
    "\n",
    "d = [0] * 100\n",
    "\n",
    "d[0] = array[0]\n",
    "d[1] = max(array[0], array[1])\n",
    "\n",
    "for i in range(2, n):\n",
    "    d[i] = max(d[i-1], d[i-2] + array[i])\n",
    "\n",
    "print(d[n-1])"
   ]
  },
  {
   "cell_type": "markdown",
   "metadata": {},
   "source": []
  }
 ],
 "metadata": {
  "language_info": {
   "name": "python"
  }
 },
 "nbformat": 4,
 "nbformat_minor": 2
}
